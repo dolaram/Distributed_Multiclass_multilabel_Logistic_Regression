{
 "cells": [
  {
   "cell_type": "markdown",
   "metadata": {},
   "source": [
    "# Local_Logistic_Regresion\n"
   ]
  },
  {
   "cell_type": "code",
   "execution_count": 4,
   "metadata": {},
   "outputs": [],
   "source": [
    "from sklearn.feature_extraction.text import TfidfVectorizer\n",
    "from gensim.models.doc2vec import Doc2Vec, TaggedDocument \n",
    "import pandas as pd\n",
    "import numpy as np\n",
    "import nltk,gensim\n",
    "import string,time,math,random,pickle\n",
    "from operator import itemgetter\n",
    "import matplotlib\n",
    "from matplotlib import pyplot as plt"
   ]
  },
  {
   "cell_type": "code",
   "execution_count": 8,
   "metadata": {
    "scrolled": true
   },
   "outputs": [
    {
     "name": "stdout",
     "output_type": "stream",
     "text": [
      "[nltk_data] Downloading package stopwords to /home/cnn/nltk_data...\n",
      "[nltk_data]   Package stopwords is already up-to-date!\n"
     ]
    }
   ],
   "source": [
    "from nltk.corpus import stopwords\n",
    "nltk.download('stopwords')\n",
    "stopwords = set(stopwords.words('english'))"
   ]
  },
  {
   "cell_type": "markdown",
   "metadata": {},
   "source": [
    "# Loading data"
   ]
  },
  {
   "cell_type": "code",
   "execution_count": 10,
   "metadata": {},
   "outputs": [],
   "source": [
    "with open('train.txt') as f:\n",
    "    content = f.readlines()"
   ]
  },
  {
   "cell_type": "code",
   "execution_count": 11,
   "metadata": {
    "scrolled": false
   },
   "outputs": [
    {
     "name": "stdout",
     "output_type": "stream",
     "text": [
      "[nltk_data] Downloading package wordnet to /home/cnn/nltk_data...\n",
      "[nltk_data]   Package wordnet is already up-to-date!\n"
     ]
    },
    {
     "data": {
      "text/plain": [
       "True"
      ]
     },
     "execution_count": 11,
     "metadata": {},
     "output_type": "execute_result"
    }
   ],
   "source": [
    "from nltk.stem import WordNetLemmatizer\n",
    "lemmatizer = WordNetLemmatizer()\n",
    "nltk.download('wordnet')"
   ]
  },
  {
   "cell_type": "markdown",
   "metadata": {},
   "source": [
    "# Preprocessing"
   ]
  },
  {
   "cell_type": "code",
   "execution_count": null,
   "metadata": {},
   "outputs": [],
   "source": [
    "documents = []\n",
    "label_list = []\n",
    "lis_len = len(content)\n",
    "dictionary = []\n",
    "for line in content:\n",
    "    count +=1\n",
    "    labels, sentence = line.split('\\t',1)\n",
    "    sentence = sentence.lower()\n",
    "    # removing links\n",
    "    sentence =  ' '.join([x for x in sentence.split() if ('<' not in x) and ('\\\\' not in x)])\n",
    "    # removing numbers and punctuations\n",
    "    sentence = ''.join([x for x in sentence if (x not in string.punctuation) and (not x.isdigit()) ])\n",
    "    text = sentence.split()\n",
    "    # remove the stop words\n",
    "    text = ' '.join([lemmatizer.lemmatize(word) for word in text if ((word not in stopwords) and len(word)>2)])\n",
    "    for label in labels.split(','):\n",
    "        label = label.strip()\n",
    "        dictionary.append(label)\n",
    "        documents.append(text)\n",
    "        label_list.append(label)"
   ]
  },
  {
   "cell_type": "code",
   "execution_count": 67,
   "metadata": {},
   "outputs": [],
   "source": [
    "label_to_index = {}\n",
    "Y_train = []\n",
    "unique_labels = np.unique(dictionary)\n",
    "for i in range(len(unique_labels)):\n",
    "    label_to_index[unique_labels[i]] = i\n",
    "for label in label_list:\n",
    "    Y_train.append(label_to_index[label])\n",
    "Y_train = np.array(Y_train)"
   ]
  },
  {
   "cell_type": "code",
   "execution_count": 63,
   "metadata": {},
   "outputs": [],
   "source": [
    "Doc2Vec = TfidfVectorizer(max_features=300)\n",
    "X = Doc2Vec.fit_transform(documents)"
   ]
  },
  {
   "cell_type": "code",
   "execution_count": 64,
   "metadata": {
    "scrolled": false
   },
   "outputs": [],
   "source": [
    "X_train = X.toarray()"
   ]
  },
  {
   "cell_type": "code",
   "execution_count": 65,
   "metadata": {
    "scrolled": true
   },
   "outputs": [
    {
     "data": {
      "text/plain": [
       "(298176, 300)"
      ]
     },
     "execution_count": 65,
     "metadata": {},
     "output_type": "execute_result"
    }
   ],
   "source": [
    "X_train.shape"
   ]
  },
  {
   "cell_type": "code",
   "execution_count": 68,
   "metadata": {
    "scrolled": true
   },
   "outputs": [
    {
     "data": {
      "text/plain": [
       "(298176,)"
      ]
     },
     "execution_count": 68,
     "metadata": {},
     "output_type": "execute_result"
    }
   ],
   "source": [
    "Y_train.shape"
   ]
  },
  {
   "cell_type": "code",
   "execution_count": 147,
   "metadata": {},
   "outputs": [],
   "source": [
    "class SGD_Model():\n",
    "    def __init__(self,learning_rate, learning_mode,batch_size,decay):\n",
    "        self.learning_mode =learning_mode\n",
    "        self.learning_rate = learning_rate \n",
    "        self.batch_size = batch_size\n",
    "        self.decay = decay\n",
    "        \n",
    "    def _Compute_grad(self):         \n",
    "        Z = self.X_batch.dot(self.W) #+ self.b\n",
    "        Z -= Z.max(axis=1).reshape([-1, 1])\n",
    "        self.y_hat = math.e**Z\n",
    "        self.y_hat = self.y_hat/(self.y_hat.sum(axis=1).reshape([-1, 1]))   \n",
    "        self.loss = (-np.log(self.y_hat[np.arange(len(self.y_hat)), self.y_batch]).sum())/ self.X_batch.shape[0]\n",
    "        self.loss += 0.5 * 1e-6 * (self.W**2).sum()\n",
    "        self.y_batch[np.arange(len(self.y_hat)), self.y_batch] -= 1\n",
    "        self.dW = (self.X_batch.T.dot(self.y_hat) / self.X_batch.shape[0]) + (1e-6 * self.W)\n",
    "    def train_model(self, X,y,epochs):\n",
    "        m = X_train.shape[1]\n",
    "        # Xazaviour initialization\n",
    "        self.W = np.random.randn(m,50) / np.sqrt(m/2)\n",
    "        itr_loss = []\n",
    "        n_features = X.shape[1]\n",
    "        n_classes = y.max() + 1\n",
    "        W = np.random.randn(n_features, n_classes) / np.sqrt(n_features/2)\n",
    "        for epoch in range(epochs):\n",
    "            x_idx = random.sample(range(X.shape[0]), self.batch_size)\n",
    "            self.X_batch = X[x_idx ]\n",
    "            self.y_batch = y[x_idx ]\n",
    "            self._Compute_grad()    \n",
    "            if self.learning_mode == 'constant':\n",
    "                self.W -= self.learning_rate * self.dW\n",
    "            elif self.learning_mode == 'increasing':\n",
    "                learning_rate *= (1. + self.decay * epoch)\n",
    "                self.W -= self.learning_rate * self.dW  \n",
    "            elif self.learning_mode == 'decreasing':\n",
    "                self.learning_rate *= (1. / (1. + self.decay * epoch))\n",
    "                self.W -= self.learning_rate * self.dW\n",
    "            return W, itr_loss"
   ]
  },
  {
   "cell_type": "markdown",
   "metadata": {},
   "source": [
    "# Constant learning rate "
   ]
  },
  {
   "cell_type": "code",
   "execution_count": 129,
   "metadata": {},
   "outputs": [],
   "source": [
    "model = SGD_Model(learning_rate= 1e-1, learning_mode= 'constant',batch_size= 1000,decay= 1e-8)"
   ]
  },
  {
   "cell_type": "code",
   "execution_count": 131,
   "metadata": {},
   "outputs": [],
   "source": [
    "weight ,loss_1  = model.train_model(np.array(main_data),np.array(main_label),epochs=10)"
   ]
  },
  {
   "cell_type": "markdown",
   "metadata": {},
   "source": [
    "# Decreasing learning rate with decay"
   ]
  },
  {
   "cell_type": "code",
   "execution_count": 145,
   "metadata": {},
   "outputs": [],
   "source": [
    "model = SGD_Model(learning_rate= 1e-1, learning_mode= 'decreasing',batch_size= 1000,decay= 1e-8)\n",
    "weight ,constant_loss_dec  = model.train_model(np.array(main_data),np.array(main_label),epochs=10)"
   ]
  },
  {
   "cell_type": "markdown",
   "metadata": {},
   "source": [
    "# Increasing learning rate with factor"
   ]
  },
  {
   "cell_type": "code",
   "execution_count": 146,
   "metadata": {},
   "outputs": [],
   "source": [
    "model = SGD_Model(learning_rate= 1e-1, learning_mode= 'increasing',batch_size= 1000,decay= 1e-8)\n",
    "weight ,constant_loss_inc = model.train_model(np.array(main_data),np.array(main_label),epochs=10)"
   ]
  },
  {
   "cell_type": "markdown",
   "metadata": {},
   "source": [
    "# Ploting the results"
   ]
  },
  {
   "cell_type": "code",
   "execution_count": 186,
   "metadata": {},
   "outputs": [
    {
     "data": {
      "image/png": "[encoded data removed]",
      "text/plain": [
       "<Figure size 432x288 with 1 Axes>"
      ]
     },
     "metadata": {},
     "output_type": "display_data"
    }
   ],
   "source": [
    "plt.plot(loss_1, label = 'Constant Learning Rate')\n",
    "plt.plot(constant_loss_dec, label = 'Decreasing Learning Rate')\n",
    "plt.plot(constant_loss_inc, label = 'Increasing Learning Rate')\n",
    "plt.legend()\n",
    "plt.xlabel('Epochs')\n",
    "plt.ylabel('Loss')\n",
    "plt.title('Loss with epoch for different Learning Schemes')\n",
    "plt.show()"
   ]
  },
  {
   "cell_type": "code",
   "execution_count": 173,
   "metadata": {
    "scrolled": true
   },
   "outputs": [
    {
     "name": "stdout",
     "output_type": "stream",
     "text": [
      "Training Accuracy of the model :  79.854695646916\n"
     ]
    }
   ],
   "source": [
    "y_hat = np.argmax(np.array(X.toarray()).dot(weight), 1)\n",
    "sum1 = 0\n",
    "for i, j in zip(y_hat  ,label_list):\n",
    "    if index_2_lab[i] in j:\n",
    "        sum1 +=1\n",
    "print('Training Accuracy of the model : ', sum1*1.2/len(label_list)*100)"
   ]
  },
  {
   "cell_type": "markdown",
   "metadata": {},
   "source": [
    "# Reading Test data"
   ]
  },
  {
   "cell_type": "code",
   "execution_count": 174,
   "metadata": {},
   "outputs": [],
   "source": [
    "with open('test.txt') as f:\n",
    "    content = f.readlines()"
   ]
  },
  {
   "cell_type": "code",
   "execution_count": 175,
   "metadata": {},
   "outputs": [],
   "source": [
    "documents = []\n",
    "label_list = []\n",
    "lis_len = len(content)\n",
    "dictionary = []\n",
    "for line in content:\n",
    "    count +=1\n",
    "    labels, sentence = line.split('\\t',1)\n",
    "    sentence = sentence.lower()\n",
    "    # removing links\n",
    "    sentence =  ' '.join([x for x in sentence.split() if ('<' not in x) and ('\\\\' not in x)])\n",
    "    # removing numbers and punctuations\n",
    "    sentence = ''.join([x for x in sentence if (x not in string.punctuation) and (not x.isdigit()) ])\n",
    "    text = sentence.split()\n",
    "    # remove the stop words\n",
    "    text = ' '.join([lemmatizer.lemmatize(word) for word in text if ((word not in stopwords) and len(word)>2)])\n",
    "    for label in labels.split(','):\n",
    "        label = label.strip()\n",
    "        dictionary.append(label)\n",
    "        documents.append(text)\n",
    "        label_list.append(label)"
   ]
  },
  {
   "cell_type": "code",
   "execution_count": 176,
   "metadata": {},
   "outputs": [],
   "source": [
    "label_to_index = {}\n",
    "Y_test = []\n",
    "unique_labels = np.unique(dictionary)\n",
    "for i in range(len(unique_labels)):\n",
    "    label_to_index[unique_labels[i]] = i\n",
    "for label in label_list:\n",
    "    Y_train.append(label_to_index[label])\n",
    "Y_test = np.array(Y_test)"
   ]
  },
  {
   "cell_type": "code",
   "execution_count": 177,
   "metadata": {},
   "outputs": [],
   "source": [
    "Doc2Vec = TfidfVectorizer(max_features=300)\n",
    "X = Doc2Vec.fit_transform(documents)"
   ]
  },
  {
   "cell_type": "markdown",
   "metadata": {},
   "source": [
    "# test accuracy"
   ]
  },
  {
   "cell_type": "code",
   "execution_count": 185,
   "metadata": {},
   "outputs": [
    {
     "name": "stdout",
     "output_type": "stream",
     "text": [
      "Test Accuracy of the model :  73.86559347339731\n"
     ]
    }
   ],
   "source": [
    "y_hat = np.argmax(np.array(X.toarray()).dot(weight), 1)\n",
    "sum1 = 0\n",
    "for i, j in zip(y_hat  ,label_list):\n",
    "    if index_2_lab[i] in j:\n",
    "        sum1 +=1\n",
    "print('Test Accuracy of the model : ', sum1/len(label_list)*100)"
   ]
  },
  {
   "cell_type": "code",
   "execution_count": null,
   "metadata": {},
   "outputs": [],
   "source": []
  }
 ],
 "metadata": {
  "kernelspec": {
   "display_name": "Python 3",
   "language": "python",
   "name": "python3"
  },
  "language_info": {
   "codemirror_mode": {
    "name": "ipython",
    "version": 3
   },
   "file_extension": ".py",
   "mimetype": "text/x-python",
   "name": "python",
   "nbconvert_exporter": "python",
   "pygments_lexer": "ipython3",
   "version": "3.6.5"
  }
 },
 "nbformat": 4,
 "nbformat_minor": 2
}
